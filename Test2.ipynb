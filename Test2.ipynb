{
 "cells": [
  {
   "cell_type": "code",
   "execution_count": 1,
   "metadata": {},
   "outputs": [],
   "source": [
    "import numpy as np\n",
    "import gym\n",
    "import random\n",
    "import keyboard\n",
    "import time\n",
    "import cv2"
   ]
  },
  {
   "cell_type": "code",
   "execution_count": 2,
   "metadata": {},
   "outputs": [
    {
     "name": "stdout",
     "output_type": "stream",
     "text": [
      "0:NOOP 1:RIGHT 2:LEFT\n"
     ]
    }
   ],
   "source": [
    "env = gym.make('SkiingDeterministic-v4')\n",
    "action_size = env.action_space.n\n",
    "print(\" \".join( [f\"{i}:{a}\" for i,a in enumerate(env.get_action_meanings())]))"
   ]
  },
  {
   "cell_type": "code",
   "execution_count": 3,
   "metadata": {},
   "outputs": [],
   "source": [
    "def preprocessFrame(I):\n",
    "    I = I[:,:,1]\n",
    "    I = I[31:103,4:76]\n",
    "    I[I == 236] = 0\n",
    "    I[I == 192] = 0\n",
    "    I[I == 214] = 0\n",
    "    I[I != 0] = 255\n",
    "    return I/255"
   ]
  },
  {
   "cell_type": "code",
   "execution_count": 33,
   "metadata": {},
   "outputs": [],
   "source": [
    "def get_frame_reward(I, prev):\n",
    "    I = I[:,:,1]\n",
    "    I = I[74:75,8:152] # Jugador 92, bandera roja 50, bandera azul 72\n",
    "    if 72 not in I and 50 not in I:\n",
    "        return 0\n",
    "    if 72 in I:\n",
    "        flags = np.where(I == 72)\n",
    "    else:\n",
    "        flags = np.where(I == 50)\n",
    "    \n",
    "    player = np.where(I == 92)[1]\n",
    "    \n",
    "    if len(player) == 0:\n",
    "        return 1 \n",
    "    \n",
    "    player = player.mean()\n",
    "    \n",
    "    if len(flags[1]) == 2:\n",
    "        if player >= flags[1][0] and player <= flags[1][1]:\n",
    "            return 1\n",
    "        else:\n",
    "            return -1\n",
    "    else:\n",
    "        return prev"
   ]
  },
  {
   "cell_type": "code",
   "execution_count": 43,
   "metadata": {},
   "outputs": [
    {
     "name": "stdout",
     "output_type": "stream",
     "text": [
      "-1 -1.499999247602267\n",
      "1 0.7497398944048823\n",
      "1 1.049833997312478\n",
      "1 0.901312339887548\n",
      "1 0.8775406687981454\n",
      "1 0.950166002687522\n",
      "1 0.950166002687522\n",
      "1 1.02497918747894\n",
      "1 0.950166002687522\n",
      "1 1.0\n",
      "1 0.925557483188341\n",
      "1 1.02497918747894\n",
      "1 0.97502081252106\n",
      "1 1.0\n",
      "1 1.02497918747894\n",
      "1 1.0\n",
      "1 1.02497918747894\n",
      "1 0.97502081252106\n",
      "1 0.97502081252106\n",
      "1 0.97502081252106\n",
      "Rewards: 20\n",
      "-4950.0\n",
      "95.0\n",
      "5.736920777279522\n",
      "FINAL: 100.73692077727952\n"
     ]
    }
   ],
   "source": [
    "env.reset()\n",
    "prev = np.zeros((72,72))\n",
    "total = 0\n",
    "count = 0\n",
    "reward = 0\n",
    "\n",
    "rewards = 0\n",
    "\n",
    "prev = 0\n",
    "\n",
    "lfc = 0\n",
    "while True:\n",
    "    count += 1\n",
    "    action = 0\n",
    "    if keyboard.is_pressed('a'):\n",
    "        action = 2\n",
    "    if keyboard.is_pressed('d'):\n",
    "        action = 1\n",
    "        \n",
    "    if keyboard.is_pressed('space'):\n",
    "        break\n",
    "    \n",
    "    next_state, reward, done, _ = env.step(action)\n",
    "    total += reward\n",
    "\n",
    "    time.sleep(0.05)\n",
    "    img = next_state\n",
    "    img = cv2.cvtColor(img, cv2.COLOR_BGR2RGB)\n",
    "    res = get_frame_reward(next_state, prev)\n",
    "    lfc += 1\n",
    "    if res == 0 and prev != 0:\n",
    "        print(prev, prev - 0.5*np.tanh(0.05*(lfc-25)))\n",
    "        lfc = 0\n",
    "        rewards += 1\n",
    "    prev = res\n",
    "    #print(res, f\"temp/img_{str(count).rjust(4, '0')}.png\")\n",
    "    cv2.imwrite(f\"temp/img_{str(count).rjust(4, '0')}.png\", img)\n",
    "    env.render()\n",
    "    \n",
    "    if done:\n",
    "        break\n",
    "\n",
    "print(\"Rewards:\", rewards)\n",
    "timer = 4507/count-1\n",
    "\n",
    "flagr = 5*(20 - (-reward) // 500) if timer > 0 else 0\n",
    "\n",
    "env.close()\n",
    "print(total)\n",
    "print(flagr)\n",
    "print(timer)\n",
    "reward = flagr + timer\n",
    "print(f\"FINAL: {reward}\")"
   ]
  },
  {
   "cell_type": "code",
   "execution_count": 7,
   "metadata": {},
   "outputs": [],
   "source": [
    "env.close()"
   ]
  }
 ],
 "metadata": {
  "kernelspec": {
   "display_name": "Python 3",
   "language": "python",
   "name": "python3"
  },
  "language_info": {
   "codemirror_mode": {
    "name": "ipython",
    "version": 3
   },
   "file_extension": ".py",
   "mimetype": "text/x-python",
   "name": "python",
   "nbconvert_exporter": "python",
   "pygments_lexer": "ipython3",
   "version": "3.6.5"
  }
 },
 "nbformat": 4,
 "nbformat_minor": 2
}
