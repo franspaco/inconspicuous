{
 "cells": [
  {
   "cell_type": "code",
   "execution_count": 1,
   "metadata": {},
   "outputs": [],
   "source": [
    "import numpy as np\n",
    "import gym\n",
    "import random\n",
    "import keyboard\n",
    "import time\n",
    "import cv2"
   ]
  },
  {
   "cell_type": "code",
   "execution_count": 2,
   "metadata": {},
   "outputs": [
    {
     "name": "stdout",
     "output_type": "stream",
     "text": [
      "0:NOOP 1:RIGHT 2:LEFT\n"
     ]
    }
   ],
   "source": [
    "env = gym.make('SkiingDeterministic-v4')\n",
    "action_size = env.action_space.n\n",
    "print(\" \".join( [f\"{i}:{a}\" for i,a in enumerate(env.get_action_meanings())]))"
   ]
  },
  {
   "cell_type": "code",
   "execution_count": 3,
   "metadata": {},
   "outputs": [],
   "source": [
    "def preprocessFrame(I):\n",
    "    I = I[::2,::2,1]\n",
    "    I = I[31:103,4:76]\n",
    "    I[I == 236] = 0\n",
    "    I[I == 192] = 0\n",
    "    I[I == 214] = 0\n",
    "    I[I != 0] = 255\n",
    "    return I/255"
   ]
  },
  {
   "cell_type": "code",
   "execution_count": 14,
   "metadata": {},
   "outputs": [
    {
     "name": "stdout",
     "output_type": "stream",
     "text": [
      "-6.0\n",
      "-612.0\n",
      "100.0\n",
      "47.46236559139785\n",
      "FINAL: 147.46236559139786\n"
     ]
    }
   ],
   "source": [
    "env.reset()\n",
    "prev = np.zeros((72,72))\n",
    "total = 0\n",
    "count = 0\n",
    "reward = 0\n",
    "while True:\n",
    "    count += 1\n",
    "    action = 0\n",
    "    if keyboard.is_pressed('a'):\n",
    "        action = 2\n",
    "    if keyboard.is_pressed('d'):\n",
    "        action = 1\n",
    "        \n",
    "    if keyboard.is_pressed('space'):\n",
    "        break\n",
    "    \n",
    "    next_state, reward, done, _ = env.step(action)\n",
    "    total += reward\n",
    "    \n",
    "    #print(reward, done)\n",
    "    time.sleep(0.05)\n",
    "    \n",
    "#     next_state = preprocessFrame(next_state)\n",
    "#     m = next_state #- prev\n",
    "#     prev = next_state\n",
    "#     m = ((m+1)*127).astype(np.uint8)\n",
    "#     f = np.zeros((72,72,3))\n",
    "#     for i in range(3):\n",
    "#         f[:,:,i] = m[:,:]\n",
    "#     f = cv2.resize(f,(288,288),fx=0, fy=0, interpolation = cv2.INTER_NEAREST)\n",
    "#     cv2.imshow('lol', f.astype(np.uint8))\n",
    "#     cv2.waitKey(1)\n",
    "    img = next_state\n",
    "    #img = cv2.resize(next_state, (0,0), fx=4, fy=4, interpolation = cv2.INTER_NEAREST) \n",
    "    img = cv2.cvtColor(img, cv2.COLOR_BGR2RGB)\n",
    "    cv2.imwrite(f\"temp/img_{str(count).rjust(4, '0')}.png\", img)\n",
    "    env.render()\n",
    "    \n",
    "    if done:\n",
    "        break\n",
    "\n",
    "print(reward)\n",
    "timer = 4507/count-1\n",
    "\n",
    "flagr = 5*(20 - (-reward) // 500) if timer > 0 else 0\n",
    "\n",
    "env.close()\n",
    "print(total)\n",
    "print(flagr)\n",
    "print(timer)\n",
    "reward = flagr + timer\n",
    "print(f\"FINAL: {reward}\")"
   ]
  },
  {
   "cell_type": "code",
   "execution_count": 31,
   "metadata": {},
   "outputs": [],
   "source": [
    "cv2.destroyAllWindows()"
   ]
  }
 ],
 "metadata": {
  "kernelspec": {
   "display_name": "Python 3",
   "language": "python",
   "name": "python3"
  },
  "language_info": {
   "codemirror_mode": {
    "name": "ipython",
    "version": 3
   },
   "file_extension": ".py",
   "mimetype": "text/x-python",
   "name": "python",
   "nbconvert_exporter": "python",
   "pygments_lexer": "ipython3",
   "version": "3.6.5"
  }
 },
 "nbformat": 4,
 "nbformat_minor": 2
}
