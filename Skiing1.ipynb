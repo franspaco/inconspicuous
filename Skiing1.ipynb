{
 "cells": [
  {
   "cell_type": "code",
   "execution_count": 1,
   "metadata": {},
   "outputs": [
    {
     "name": "stderr",
     "output_type": "stream",
     "text": [
      "Using TensorFlow backend.\n"
     ]
    }
   ],
   "source": [
    "from keras.layers import Dense\n",
    "from keras.models import Sequential\n",
    "from keras.utils import to_categorical\n",
    "import numpy as np\n",
    "import gym\n",
    "import time\n",
    "from collections import deque"
   ]
  },
  {
   "cell_type": "code",
   "execution_count": 2,
   "metadata": {},
   "outputs": [
    {
     "name": "stdout",
     "output_type": "stream",
     "text": [
      "0:NOOP 1:RIGHT 2:LEFT\n"
     ]
    }
   ],
   "source": [
    "env = gym.make('SkiingDeterministic-v4')\n",
    "action_size = env.action_space.n\n",
    "print(\" \".join( [f\"{i}:{a}\" for i,a in enumerate(env.get_action_meanings())]))"
   ]
  },
  {
   "cell_type": "code",
   "execution_count": 8,
   "metadata": {},
   "outputs": [],
   "source": [
    "def discount_rewards(r, gamma):\n",
    "    \"\"\" take 1D float array of rewards and compute discounted reward \"\"\"\n",
    "    r = np.array(r)\n",
    "    discounted_r = np.zeros_like(r)\n",
    "    running_add = 0\n",
    "    # we go from last reward to first one so we don't have to do exponentiations\n",
    "    for t in reversed(range(0, r.size)):\n",
    "        if r[t] != 0: running_add = 0 # if the game ended (in Pong), reset the reward sum\n",
    "        running_add = running_add * gamma + r[t] # the point here is to use Horner's method to compute those rewards efficiently\n",
    "        discounted_r[t] = running_add\n",
    "    discounted_r -= np.mean(discounted_r) #normalizing the result\n",
    "    discounted_r /= np.std(discounted_r) #idem\n",
    "    return discounted_r\n",
    "\n",
    "class Agent:\n",
    "    def __init__(self, gamma=0.95):\n",
    "        self.episode = 0\n",
    "        self.model = self._make_model()\n",
    "        self.restart()\n",
    "        self.gamma = gamma\n",
    "        \n",
    "        self.add_total = True\n",
    "        \n",
    "        self.autosave = None\n",
    "    \n",
    "    def preprocessFrame(self,I):\n",
    "        \"\"\" \n",
    "        Outputs a 72x72 image where background is black\n",
    "        and important game elements are white.\n",
    "        Output is [0,1]\n",
    "        \"\"\"\n",
    "        I = I[::2,::2,1]\n",
    "        I = I[31:103,4:76]\n",
    "        I[I == 236] = 0\n",
    "        I[I == 192] = 0\n",
    "        I[I == 214] = 0\n",
    "        I[I != 0] = 255\n",
    "        return I/255\n",
    "    \n",
    "    def _make_model(self):\n",
    "        model = Sequential()\n",
    "        model.add(Dense(\n",
    "            units=256,\n",
    "            input_dim=72*72,\n",
    "            activation='relu',\n",
    "            #kernel_initializer='glorot_uniform'\n",
    "        ))\n",
    "        model.add(Dense(\n",
    "            units=3,\n",
    "            activation='softmax',\n",
    "            #kernel_initializer='RandomNormal'\n",
    "        ))\n",
    "        model.compile(\n",
    "            loss='categorical_crossentropy',\n",
    "            optimizer='adam',\n",
    "            metrics=['accuracy']\n",
    "        )\n",
    "        return model\n",
    "    \n",
    "    def restart(self):\n",
    "        self.x_train = []\n",
    "        self.y_train = []\n",
    "        self.rewards = []\n",
    "        self.last = np.zeros(72*72)\n",
    "        self.total_reward = 0\n",
    "        \n",
    "    def save_reward(self, reward):\n",
    "        self.rewards.append(reward)\n",
    "        self.total_reward += reward\n",
    "    \n",
    "    def action(self, frame):\n",
    "        frame = self.preprocessFrame(frame).flatten()\n",
    "        #x = np.array([frame - self.last])\n",
    "        x = np.array([frame])\n",
    "        probs = self.model.predict(x)\n",
    "        y = np.random.choice([0,1,2], p=probs[0])\n",
    "        self.x_train.append(x)\n",
    "        self.y_train.append(to_categorical(y, num_classes=3))\n",
    "        self.last = frame\n",
    "        return y\n",
    "        \n",
    "    def train(self):\n",
    "        if self.add_total: self.rewards[-1] += self.total_reward\n",
    "        self.model.fit(\n",
    "            x=np.vstack(self.x_train),\n",
    "            y=np.vstack(self.y_train),\n",
    "            verbose=1,\n",
    "            sample_weight=discount_rewards(self.rewards, self.gamma)\n",
    "        )\n",
    "        if self.autosave is not None and self.episode % self.autosave == 0:\n",
    "            self.save(\"last.h5\")\n",
    "            print(\"Saved!\")\n",
    "        self.episode += 1\n",
    "        \n",
    "    def set_autosave(self, interval):\n",
    "        self.autosave = interval\n",
    "        \n",
    "    def save(self, name):\n",
    "        self.model.save_weights(name)\n",
    "        \n",
    "    def load(self, name):\n",
    "        self.model.load_weights(name)\n",
    "        "
   ]
  },
  {
   "cell_type": "code",
   "execution_count": 9,
   "metadata": {},
   "outputs": [
    {
     "name": "stdout",
     "output_type": "stream",
     "text": [
      "_________________________________________________________________\n",
      "Layer (type)                 Output Shape              Param #   \n",
      "=================================================================\n",
      "dense_3 (Dense)              (None, 256)               1327360   \n",
      "_________________________________________________________________\n",
      "dense_4 (Dense)              (None, 3)                 771       \n",
      "=================================================================\n",
      "Total params: 1,328,131\n",
      "Trainable params: 1,328,131\n",
      "Non-trainable params: 0\n",
      "_________________________________________________________________\n"
     ]
    }
   ],
   "source": [
    "agent = Agent()\n",
    "agent.model.summary()"
   ]
  },
  {
   "cell_type": "code",
   "execution_count": 14,
   "metadata": {},
   "outputs": [],
   "source": [
    "class RewardHist:\n",
    "    def __init__(self, maxlen=100):\n",
    "        self.mem = deque(maxlen=maxlen)\n",
    "        self.last = 0\n",
    "    \n",
    "    def add(self, reward):\n",
    "        self.mem.append(reward)\n",
    "    \n",
    "    def _nparr(self):\n",
    "        return np.array(self.mem)\n",
    "    \n",
    "    def max(self):\n",
    "        return self._nparr().max()\n",
    "    \n",
    "    def mean(self):\n",
    "        return self._nparr().mean()\n",
    "    \n",
    "    def report(self):\n",
    "        mean = self.mean()\n",
    "        symbol = '▲' if mean > self.last else '▼' if mean < self.last else '-'\n",
    "        print(f\"Reward AVG: {mean:8.2f} | {symbol} {(mean - self.last):8.2f}\")\n",
    "        print(f\"Best: {self.max()}\")\n",
    "        self.last = mean"
   ]
  },
  {
   "cell_type": "code",
   "execution_count": null,
   "metadata": {},
   "outputs": [
    {
     "name": "stdout",
     "output_type": "stream",
     "text": [
      "# - = - = - = - #\n",
      "Ep:   18\n",
      "Total reward: -30000.0\n",
      "Reward AVG: -30000.00 | ▼ -30000.00\n",
      "Best: -30000.0\n",
      "Epoch 1/1\n",
      "4507/4507 [==============================] - 1s 131us/step - loss: 0.0051 - acc: 0.8391\n",
      "# - = - = - = - #\n",
      "Ep:   19\n",
      "Total reward: -30808.0\n",
      "Reward AVG: -30404.00 | ▼  -404.00\n",
      "Best: -30000.0\n",
      "Epoch 1/1\n",
      "3427/3427 [==============================] - 0s 120us/step - loss: 0.0152 - acc: 0.6163\n",
      "# - = - = - = - #\n",
      "Ep:   20\n",
      "Total reward: -30000.0\n",
      "Reward AVG: -30269.33 | ▲   134.67\n",
      "Best: -30000.0\n",
      "Epoch 1/1\n",
      "4507/4507 [==============================] - 1s 128us/step - loss: 0.0110 - acc: 0.7022\n",
      "Saved!\n"
     ]
    }
   ],
   "source": [
    "agent.set_autosave(10)\n",
    "observation = env.reset()\n",
    "hist = RewardHist()\n",
    "agent.restart()\n",
    "while True:\n",
    "    env.render()\n",
    "    \n",
    "    action = agent.action(observation)\n",
    "    \n",
    "    observation, reward, done, _ = env.step(action)\n",
    "    \n",
    "    agent.save_reward(reward)\n",
    "    \n",
    "    if done:\n",
    "        print('# - = - = - = - #')\n",
    "        print(f\"Ep: {agent.episode:4}\\nTotal reward: {agent.total_reward}\")\n",
    "        hist.add(agent.total_reward)\n",
    "        hist.report()\n",
    "        agent.train()\n",
    "        agent.restart()\n",
    "        \n",
    "        observation = env.reset()\n",
    "        \n",
    "env.close()"
   ]
  },
  {
   "cell_type": "code",
   "execution_count": null,
   "metadata": {},
   "outputs": [],
   "source": [
    "observation = env.reset()\n",
    "agent.restart()\n",
    "while True:\n",
    "    env.render()\n",
    "    \n",
    "    action = agent.action(observation)\n",
    "        \n",
    "    observation, reward, done, _ = env.step(action)\n",
    "    \n",
    "    agent.save_reward(reward)\n",
    "    \n",
    "    if done:\n",
    "        print(f\"Total reward: {agent.total_reward}\")\n",
    "        break\n",
    "        \n",
    "        \n",
    "env.close()"
   ]
  }
 ],
 "metadata": {
  "kernelspec": {
   "display_name": "Python 3",
   "language": "python",
   "name": "python3"
  },
  "language_info": {
   "codemirror_mode": {
    "name": "ipython",
    "version": 3
   },
   "file_extension": ".py",
   "mimetype": "text/x-python",
   "name": "python",
   "nbconvert_exporter": "python",
   "pygments_lexer": "ipython3",
   "version": "3.6.5"
  }
 },
 "nbformat": 4,
 "nbformat_minor": 2
}
